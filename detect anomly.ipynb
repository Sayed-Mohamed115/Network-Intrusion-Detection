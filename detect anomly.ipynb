{
 "cells": [
  {
   "cell_type": "code",
   "execution_count": 16,
   "id": "d4dfd8d5",
   "metadata": {},
   "outputs": [
    {
     "name": "stderr",
     "output_type": "stream",
     "text": [
      "<>:4: SyntaxWarning: invalid escape sequence '\\D'\n",
      "<>:4: SyntaxWarning: invalid escape sequence '\\D'\n",
      "C:\\Users\\Sayed Mohamed\\AppData\\Local\\Temp\\ipykernel_7308\\3718489733.py:4: SyntaxWarning: invalid escape sequence '\\D'\n",
      "  df = pd.read_csv('E:\\\\NTI\\\\NTI eme\\\\3. AI\\Dataset\\\\AI task\\\\sampled_NF-CSE-CIC-IDS2018-v2.csv')\n"
     ]
    }
   ],
   "source": [
    "#1. Load the dataset:\n",
    "\n",
    "import pandas as pd\n",
    "df = pd.read_csv('E:\\\\NTI\\\\NTI eme\\\\3. AI\\Dataset\\\\AI task\\\\sampled_NF-CSE-CIC-IDS2018-v2.csv')"
   ]
  },
  {
   "cell_type": "code",
   "execution_count": 17,
   "id": "4d5aedbe",
   "metadata": {},
   "outputs": [
    {
     "name": "stdout",
     "output_type": "stream",
     "text": [
      "<class 'pandas.core.frame.DataFrame'>\n",
      "RangeIndex: 188938 entries, 0 to 188937\n",
      "Data columns (total 46 columns):\n",
      " #   Column                       Non-Null Count   Dtype  \n",
      "---  ------                       --------------   -----  \n",
      " 0   IPV4_SRC_ADDR                188938 non-null  object \n",
      " 1   L4_SRC_PORT                  188938 non-null  int64  \n",
      " 2   IPV4_DST_ADDR                188938 non-null  object \n",
      " 3   L4_DST_PORT                  188938 non-null  int64  \n",
      " 4   PROTOCOL                     188938 non-null  int64  \n",
      " 5   L7_PROTO                     188938 non-null  float64\n",
      " 6   IN_BYTES                     188938 non-null  int64  \n",
      " 7   IN_PKTS                      188938 non-null  int64  \n",
      " 8   OUT_BYTES                    188938 non-null  int64  \n",
      " 9   OUT_PKTS                     188938 non-null  int64  \n",
      " 10  TCP_FLAGS                    188938 non-null  int64  \n",
      " 11  CLIENT_TCP_FLAGS             188938 non-null  int64  \n",
      " 12  SERVER_TCP_FLAGS             188938 non-null  int64  \n",
      " 13  FLOW_DURATION_MILLISECONDS   188938 non-null  int64  \n",
      " 14  DURATION_IN                  188938 non-null  int64  \n",
      " 15  DURATION_OUT                 188938 non-null  int64  \n",
      " 16  MIN_TTL                      188938 non-null  int64  \n",
      " 17  MAX_TTL                      188938 non-null  int64  \n",
      " 18  LONGEST_FLOW_PKT             188938 non-null  int64  \n",
      " 19  SHORTEST_FLOW_PKT            188938 non-null  int64  \n",
      " 20  MIN_IP_PKT_LEN               188938 non-null  int64  \n",
      " 21  MAX_IP_PKT_LEN               188938 non-null  int64  \n",
      " 22  SRC_TO_DST_SECOND_BYTES      188938 non-null  float64\n",
      " 23  DST_TO_SRC_SECOND_BYTES      188938 non-null  float64\n",
      " 24  RETRANSMITTED_IN_BYTES       188938 non-null  int64  \n",
      " 25  RETRANSMITTED_IN_PKTS        188938 non-null  int64  \n",
      " 26  RETRANSMITTED_OUT_BYTES      188938 non-null  int64  \n",
      " 27  RETRANSMITTED_OUT_PKTS       188938 non-null  int64  \n",
      " 28  SRC_TO_DST_AVG_THROUGHPUT    188938 non-null  int64  \n",
      " 29  DST_TO_SRC_AVG_THROUGHPUT    188938 non-null  int64  \n",
      " 30  NUM_PKTS_UP_TO_128_BYTES     188938 non-null  int64  \n",
      " 31  NUM_PKTS_128_TO_256_BYTES    188938 non-null  int64  \n",
      " 32  NUM_PKTS_256_TO_512_BYTES    188938 non-null  int64  \n",
      " 33  NUM_PKTS_512_TO_1024_BYTES   188938 non-null  int64  \n",
      " 34  NUM_PKTS_1024_TO_1514_BYTES  188938 non-null  int64  \n",
      " 35  TCP_WIN_MAX_IN               188938 non-null  int64  \n",
      " 36  TCP_WIN_MAX_OUT              188938 non-null  int64  \n",
      " 37  ICMP_TYPE                    188938 non-null  int64  \n",
      " 38  ICMP_IPV4_TYPE               188938 non-null  int64  \n",
      " 39  DNS_QUERY_ID                 188938 non-null  int64  \n",
      " 40  DNS_QUERY_TYPE               188938 non-null  int64  \n",
      " 41  DNS_TTL_ANSWER               188938 non-null  int64  \n",
      " 42  FTP_COMMAND_RET_CODE         188938 non-null  int64  \n",
      " 43  Label                        188938 non-null  int64  \n",
      " 44  Attack                       188938 non-null  object \n",
      " 45  Attack_Category              188938 non-null  object \n",
      "dtypes: float64(3), int64(39), object(4)\n",
      "memory usage: 66.3+ MB\n"
     ]
    }
   ],
   "source": [
    "#prprocessing data\n",
    "df.info()"
   ]
  },
  {
   "cell_type": "code",
   "execution_count": 18,
   "id": "ae02c8ac",
   "metadata": {},
   "outputs": [
    {
     "data": {
      "text/plain": [
       "IPV4_SRC_ADDR                  0\n",
       "L4_SRC_PORT                    0\n",
       "IPV4_DST_ADDR                  0\n",
       "L4_DST_PORT                    0\n",
       "PROTOCOL                       0\n",
       "L7_PROTO                       0\n",
       "IN_BYTES                       0\n",
       "IN_PKTS                        0\n",
       "OUT_BYTES                      0\n",
       "OUT_PKTS                       0\n",
       "TCP_FLAGS                      0\n",
       "CLIENT_TCP_FLAGS               0\n",
       "SERVER_TCP_FLAGS               0\n",
       "FLOW_DURATION_MILLISECONDS     0\n",
       "DURATION_IN                    0\n",
       "DURATION_OUT                   0\n",
       "MIN_TTL                        0\n",
       "MAX_TTL                        0\n",
       "LONGEST_FLOW_PKT               0\n",
       "SHORTEST_FLOW_PKT              0\n",
       "MIN_IP_PKT_LEN                 0\n",
       "MAX_IP_PKT_LEN                 0\n",
       "SRC_TO_DST_SECOND_BYTES        0\n",
       "DST_TO_SRC_SECOND_BYTES        0\n",
       "RETRANSMITTED_IN_BYTES         0\n",
       "RETRANSMITTED_IN_PKTS          0\n",
       "RETRANSMITTED_OUT_BYTES        0\n",
       "RETRANSMITTED_OUT_PKTS         0\n",
       "SRC_TO_DST_AVG_THROUGHPUT      0\n",
       "DST_TO_SRC_AVG_THROUGHPUT      0\n",
       "NUM_PKTS_UP_TO_128_BYTES       0\n",
       "NUM_PKTS_128_TO_256_BYTES      0\n",
       "NUM_PKTS_256_TO_512_BYTES      0\n",
       "NUM_PKTS_512_TO_1024_BYTES     0\n",
       "NUM_PKTS_1024_TO_1514_BYTES    0\n",
       "TCP_WIN_MAX_IN                 0\n",
       "TCP_WIN_MAX_OUT                0\n",
       "ICMP_TYPE                      0\n",
       "ICMP_IPV4_TYPE                 0\n",
       "DNS_QUERY_ID                   0\n",
       "DNS_QUERY_TYPE                 0\n",
       "DNS_TTL_ANSWER                 0\n",
       "FTP_COMMAND_RET_CODE           0\n",
       "Label                          0\n",
       "Attack                         0\n",
       "Attack_Category                0\n",
       "dtype: int64"
      ]
     },
     "execution_count": 18,
     "metadata": {},
     "output_type": "execute_result"
    }
   ],
   "source": [
    "df.isnull().sum()"
   ]
  },
  {
   "cell_type": "code",
   "execution_count": 19,
   "id": "c243318e",
   "metadata": {},
   "outputs": [],
   "source": [
    "#1-Handle missing values:\n",
    "df.dropna(inplace=True)"
   ]
  },
  {
   "cell_type": "code",
   "execution_count": 20,
   "id": "88ed7784",
   "metadata": {},
   "outputs": [],
   "source": [
    "#2-Drop source and destination IP addresses and other non-numeric columns\n",
    "df = df.drop(columns=['Src IP', 'Dst IP'], errors='ignore')"
   ]
  },
  {
   "cell_type": "code",
   "execution_count": 21,
   "id": "e93d809c",
   "metadata": {},
   "outputs": [],
   "source": [
    "#3- Encode categorical columns: If there are meaningful categorical features (e.g., Protocol, Flags), encode them:\n",
    "from sklearn.preprocessing import LabelEncoder\n",
    "for col in df.select_dtypes(include='object').columns:\n",
    "    df[col] = LabelEncoder().fit_transform(df[col])\n",
    "le = LabelEncoder()\n",
    "df['Label'] = le.fit_transform(df['Label'])\n"
   ]
  },
  {
   "cell_type": "code",
   "execution_count": 22,
   "id": "749a9da5",
   "metadata": {},
   "outputs": [],
   "source": [
    "#4- Split features and target:\n",
    "X = df.drop('Label', axis=1)\n",
    "y = df['Label']"
   ]
  },
  {
   "cell_type": "code",
   "execution_count": 23,
   "id": "ff102e87",
   "metadata": {},
   "outputs": [],
   "source": [
    "#5. Split into training and testing sets:\n",
    "from sklearn.model_selection import train_test_split\n",
    "X_train, X_test, y_train, y_test = train_test_split(X, y, test_size=0.2, random_state=42)"
   ]
  },
  {
   "cell_type": "code",
   "execution_count": 24,
   "id": "c08eb530",
   "metadata": {},
   "outputs": [],
   "source": [
    "#6- Feature scaling\n",
    "import numpy as np\n",
    "from sklearn.preprocessing import StandardScaler, MinMaxScaler\n",
    "scaler = MinMaxScaler()\n",
    "X_train_scaler = scaler.fit_transform(X_train)\n",
    "X_test_scaler = scaler.transform(X_test)\n"
   ]
  },
  {
   "cell_type": "code",
   "execution_count": 28,
   "id": "2a2c13b5",
   "metadata": {},
   "outputs": [
    {
     "name": "stdout",
     "output_type": "stream",
     "text": [
      "              precision    recall  f1-score   support\n",
      "\n",
      "      Normal       0.97      0.94      0.96     33263\n",
      "     Anomaly       0.66      0.82      0.73      4525\n",
      "\n",
      "    accuracy                           0.93     37788\n",
      "   macro avg       0.82      0.88      0.84     37788\n",
      "weighted avg       0.94      0.93      0.93     37788\n",
      "\n",
      "Logistic Regression Accuracy: 92.70%\n"
     ]
    },
    {
     "name": "stderr",
     "output_type": "stream",
     "text": [
      "c:\\Users\\Sayed Mohamed\\anaconda3\\Lib\\site-packages\\sklearn\\base.py:486: UserWarning: X has feature names, but LogisticRegression was fitted without feature names\n",
      "  warnings.warn(\n"
     ]
    }
   ],
   "source": [
    "#models\n",
    "from sklearn.metrics import classification_report, confusion_matrix, accuracy_score\n",
    "#1. Logistic Regression (LR)\n",
    "from sklearn.linear_model import LogisticRegression\n",
    "model = LogisticRegression(max_iter=1000)\n",
    "model.fit(X_train_scaler, y_train)\n",
    "y_pred = model.predict(X_test)\n",
    "print(classification_report(y_test, y_pred, target_names=[\"Normal\", \"Anomaly\"]))\n",
    "accuracy_LR= accuracy_score(y_test, y_pred)*100\n",
    "print(f'Logistic Regression Accuracy: {accuracy_LR:.2f}%')"
   ]
  },
  {
   "cell_type": "code",
   "execution_count": 29,
   "id": "7b28c0b6",
   "metadata": {},
   "outputs": [
    {
     "name": "stdout",
     "output_type": "stream",
     "text": [
      "              precision    recall  f1-score   support\n",
      "\n",
      "      Normal       1.00      1.00      1.00     33263\n",
      "     Anomaly       1.00      1.00      1.00      4525\n",
      "\n",
      "    accuracy                           1.00     37788\n",
      "   macro avg       1.00      1.00      1.00     37788\n",
      "weighted avg       1.00      1.00      1.00     37788\n",
      "\n",
      "Decision Tree Accuracy: 100.00 %\n"
     ]
    }
   ],
   "source": [
    "#2. Decision Tree (DT)\n",
    "from sklearn.tree import DecisionTreeClassifier\n",
    "model = DecisionTreeClassifier()\n",
    "model.fit(X_train_scaler, y_train)\n",
    "y_pred = model.predict(X_test_scaler)\n",
    "\n",
    "print(classification_report(y_test, y_pred, target_names=[\"Normal\", \"Anomaly\"]))\n",
    "accuracy_DT = accuracy_score(y_test, y_pred)*100\n",
    "print(f'Decision Tree Accuracy: {accuracy_DT:.2f} %')"
   ]
  },
  {
   "cell_type": "code",
   "execution_count": 30,
   "id": "77c16e32",
   "metadata": {},
   "outputs": [
    {
     "name": "stdout",
     "output_type": "stream",
     "text": [
      "              precision    recall  f1-score   support\n",
      "\n",
      "      Normal       1.00      1.00      1.00     33263\n",
      "     Anomaly       1.00      1.00      1.00      4525\n",
      "\n",
      "    accuracy                           1.00     37788\n",
      "   macro avg       1.00      1.00      1.00     37788\n",
      "weighted avg       1.00      1.00      1.00     37788\n",
      "\n",
      "RandomForestClassifier Accuracy: 100.00 %\n"
     ]
    }
   ],
   "source": [
    "#3. RandomForestClassifier\n",
    "from sklearn.ensemble import RandomForestClassifier \n",
    "model = RandomForestClassifier()\n",
    "model.fit(X_train_scaler, y_train)\n",
    "y_pred = model.predict(X_test_scaler)\n",
    "\n",
    "print(classification_report(y_test, y_pred, target_names=[\"Normal\", \"Anomaly\"]))\n",
    "accuracy_RF = accuracy_score(y_test, y_pred)*100\n",
    "print(f'RandomForestClassifier Accuracy: {accuracy_RF:.2f} %')"
   ]
  },
  {
   "cell_type": "code",
   "execution_count": 31,
   "id": "d38599e3",
   "metadata": {},
   "outputs": [
    {
     "name": "stdout",
     "output_type": "stream",
     "text": [
      "              precision    recall  f1-score   support\n",
      "\n",
      "      Normal       1.00      1.00      1.00     33263\n",
      "     Anomaly       1.00      1.00      1.00      4525\n",
      "\n",
      "    accuracy                           1.00     37788\n",
      "   macro avg       1.00      1.00      1.00     37788\n",
      "weighted avg       1.00      1.00      1.00     37788\n",
      "\n",
      "RandomForestClassifier Accuracy: 100.00 %\n"
     ]
    }
   ],
   "source": [
    "#4. XGBClassifier\n",
    "from xgboost import XGBClassifier\n",
    "model = XGBClassifier()\n",
    "model.fit(X_train_scaler, y_train)\n",
    "y_pred = model.predict(X_test_scaler)\n",
    "\n",
    "print(classification_report(y_test, y_pred, target_names=[\"Normal\", \"Anomaly\"]))\n",
    "accuracy_xg = accuracy_score(y_test, y_pred)*100\n",
    "print(f'RandomForestClassifier Accuracy: {accuracy_xg:.2f} %')\n",
    "\n"
   ]
  },
  {
   "cell_type": "code",
   "execution_count": 32,
   "id": "17b2a228",
   "metadata": {},
   "outputs": [
    {
     "name": "stderr",
     "output_type": "stream",
     "text": [
      "c:\\Users\\Sayed Mohamed\\anaconda3\\Lib\\site-packages\\sklearn\\base.py:486: UserWarning: X has feature names, but SVC was fitted without feature names\n",
      "  warnings.warn(\n"
     ]
    },
    {
     "name": "stdout",
     "output_type": "stream",
     "text": [
      "              precision    recall  f1-score   support\n",
      "\n",
      "      Normal       0.88      1.00      0.94     33263\n",
      "     Anomaly       0.00      0.00      0.00      4525\n",
      "\n",
      "    accuracy                           0.88     37788\n",
      "   macro avg       0.44      0.50      0.47     37788\n",
      "weighted avg       0.77      0.88      0.82     37788\n",
      "\n",
      "SVM Accuracy: 88.03%\n"
     ]
    },
    {
     "name": "stderr",
     "output_type": "stream",
     "text": [
      "c:\\Users\\Sayed Mohamed\\anaconda3\\Lib\\site-packages\\sklearn\\metrics\\_classification.py:1531: UndefinedMetricWarning: Precision is ill-defined and being set to 0.0 in labels with no predicted samples. Use `zero_division` parameter to control this behavior.\n",
      "  _warn_prf(average, modifier, f\"{metric.capitalize()} is\", len(result))\n",
      "c:\\Users\\Sayed Mohamed\\anaconda3\\Lib\\site-packages\\sklearn\\metrics\\_classification.py:1531: UndefinedMetricWarning: Precision is ill-defined and being set to 0.0 in labels with no predicted samples. Use `zero_division` parameter to control this behavior.\n",
      "  _warn_prf(average, modifier, f\"{metric.capitalize()} is\", len(result))\n",
      "c:\\Users\\Sayed Mohamed\\anaconda3\\Lib\\site-packages\\sklearn\\metrics\\_classification.py:1531: UndefinedMetricWarning: Precision is ill-defined and being set to 0.0 in labels with no predicted samples. Use `zero_division` parameter to control this behavior.\n",
      "  _warn_prf(average, modifier, f\"{metric.capitalize()} is\", len(result))\n"
     ]
    }
   ],
   "source": [
    "# 5. Support Vector Machine (SVM)\n",
    "from sklearn.svm import SVC\n",
    "\n",
    "model = SVC(kernel='rbf', C=1.0, gamma='scale')\n",
    "model.fit(X_train_scaler, y_train)\n",
    "y_pred = model.predict(X_test)\n",
    "\n",
    "print(classification_report(y_test, y_pred, target_names=[\"Normal\", \"Anomaly\"]))\n",
    "accuracy_SVM = accuracy_score(y_test, y_pred)*100\n",
    "print(f'SVM Accuracy: {accuracy_SVM:.2f}%')"
   ]
  },
  {
   "cell_type": "code",
   "execution_count": 33,
   "id": "a3718148",
   "metadata": {},
   "outputs": [
    {
     "name": "stderr",
     "output_type": "stream",
     "text": [
      "c:\\Users\\Sayed Mohamed\\anaconda3\\Lib\\site-packages\\sklearn\\base.py:486: UserWarning: X has feature names, but KNeighborsClassifier was fitted without feature names\n",
      "  warnings.warn(\n"
     ]
    },
    {
     "name": "stdout",
     "output_type": "stream",
     "text": [
      "              precision    recall  f1-score   support\n",
      "\n",
      "      Normal       0.88      1.00      0.94     33263\n",
      "     Anomaly       0.87      0.02      0.04      4525\n",
      "\n",
      "    accuracy                           0.88     37788\n",
      "   macro avg       0.87      0.51      0.49     37788\n",
      "weighted avg       0.88      0.88      0.83     37788\n",
      "\n",
      "KNeighborsClassifier Accuracy: 88.26 %\n"
     ]
    }
   ],
   "source": [
    "#6. KNeighborsClassifier\n",
    "from sklearn.neighbors import KNeighborsClassifier\n",
    "model = KNeighborsClassifier()\n",
    "model.fit(X_train_scaler, y_train)\n",
    "y_pred = model.predict(X_test)\n",
    "\n",
    "print(classification_report(y_test, y_pred, target_names=[\"Normal\", \"Anomaly\"]))\n",
    "accuracy_KNN = accuracy_score(y_test, y_pred)*100\n",
    "print(f'KNeighborsClassifier Accuracy: {accuracy_KNN:.2f} %')"
   ]
  },
  {
   "cell_type": "code",
   "execution_count": 34,
   "id": "e452d412",
   "metadata": {},
   "outputs": [
    {
     "name": "stderr",
     "output_type": "stream",
     "text": [
      "c:\\Users\\Sayed Mohamed\\anaconda3\\Lib\\site-packages\\sklearn\\base.py:486: UserWarning: X has feature names, but KNeighborsClassifier was fitted without feature names\n",
      "  warnings.warn(\n"
     ]
    },
    {
     "name": "stdout",
     "output_type": "stream",
     "text": [
      "              precision    recall  f1-score   support\n",
      "\n",
      "      Normal       0.88      1.00      0.94     33263\n",
      "     Anomaly       0.87      0.02      0.04      4525\n",
      "\n",
      "    accuracy                           0.88     37788\n",
      "   macro avg       0.87      0.51      0.49     37788\n",
      "weighted avg       0.88      0.88      0.83     37788\n",
      "\n",
      "GaussianNB Accuracy: 88.26 %\n"
     ]
    }
   ],
   "source": [
    "#7. GaussianNB\n",
    "from sklearn.naive_bayes import GaussianNB\n",
    "model = KNeighborsClassifier()\n",
    "model.fit(X_train_scaler, y_train)\n",
    "y_pred = model.predict(X_test)\n",
    "\n",
    "print(classification_report(y_test, y_pred, target_names=[\"Normal\", \"Anomaly\"]))\n",
    "accuracy_NV = accuracy_score(y_test, y_pred)*100\n",
    "print(f'GaussianNB Accuracy: {accuracy_NV:.2f} %')"
   ]
  },
  {
   "cell_type": "code",
   "execution_count": null,
   "id": "1774e2d4",
   "metadata": {},
   "outputs": [
    {
     "data": {
      "image/png": "[encoded data removed]",
      "text/plain": [
       "<Figure size 1000x600 with 1 Axes>"
      ]
     },
     "metadata": {},
     "output_type": "display_data"
    }
   ],
   "source": [
    "# Evalute models\n",
    "import matplotlib.pyplot as plt\n",
    "\n",
    "# Example accuracy scores (replace with your actual model results)\n",
    "model_names = [\n",
    "    \"Logistic Regression\",\n",
    "    \"Decision Tree\",\n",
    "    \"Random Forest\",\n",
    "    \"SVM\",\n",
    "    \"KNN\",\n",
    "    \"Naive Bayes\",\n",
    "    \"XGBoost\"\n",
    "]\n",
    "\n",
    "accuracies = [\n",
    "    accuracy_LR,  # Logistic Regression\n",
    "    accuracy_DT,  # Decision Tree\n",
    "    accuracy_RF,  # Random Forest\n",
    "    accuracy_SVM,  # SVM\n",
    "    accuracy_KNN,  # KNN\n",
    "    accuracy_NV,  # GaussianNB\n",
    "    accuracy_xg   # XGBoost\n",
    "]\n",
    "\n",
    "# Plotting\n",
    "plt.figure(figsize=(10, 6))\n",
    "bars = plt.bar(model_names, accuracies, color='skyblue')\n",
    "plt.ylim(0.8, 1.0)\n",
    "plt.ylabel(\"Accuracy\")\n",
    "plt.title(\"Model Accuracy Comparison\")\n",
    "\n",
    "# Annotate bars with accuracy values\n",
    "for bar, acc in zip(bars, accuracies):\n",
    "    plt.text(bar.get_x() + bar.get_width() / 2, bar.get_height() - 0.03,\n",
    "             f\"{acc:.2f}\", ha='center', color='black', fontsize=11)\n",
    "\n",
    "plt.xticks(rotation=30, ha='right')\n",
    "plt.grid(axis='y', linestyle='--', alpha=0.7)\n",
    "plt.tight_layout()\n",
    "plt.show()\n"
   ]
  }
 ],
 "metadata": {
  "kernelspec": {
   "display_name": "base",
   "language": "python",
   "name": "python3"
  },
  "language_info": {
   "codemirror_mode": {
    "name": "ipython",
    "version": 3
   },
   "file_extension": ".py",
   "mimetype": "text/x-python",
   "name": "python",
   "nbconvert_exporter": "python",
   "pygments_lexer": "ipython3",
   "version": "3.12.7"
  }
 },
 "nbformat": 4,
 "nbformat_minor": 5
}
